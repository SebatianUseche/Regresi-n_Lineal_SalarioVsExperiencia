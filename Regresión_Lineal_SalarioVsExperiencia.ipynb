{
  "nbformat": 4,
  "nbformat_minor": 0,
  "metadata": {
    "colab": {
      "provenance": [],
      "mount_file_id": "1b4Lrv6Pgx892jQr7XKCRMugBei-NQFFt",
      "authorship_tag": "ABX9TyMGqaTgq2ays/dk+iMl+A5y",
      "include_colab_link": true
    },
    "kernelspec": {
      "name": "python3",
      "display_name": "Python 3"
    },
    "language_info": {
      "name": "python"
    }
  },
  "cells": [
    {
      "cell_type": "markdown",
      "metadata": {
        "id": "view-in-github",
        "colab_type": "text"
      },
      "source": [
        "<a href=\"https://colab.research.google.com/github/SebatianUseche/Regresi-n_Lineal_SalarioVsExperiencia/blob/main/Regresi%C3%B3n_Lineal_SalarioVsExperiencia.ipynb\" target=\"_parent\"><img src=\"https://colab.research.google.com/assets/colab-badge.svg\" alt=\"Open In Colab\"/></a>"
      ]
    },
    {
      "cell_type": "markdown",
      "source": [
        "## Formulación de un Modelo Lineal Simple\n",
        "\n",
        "### Caso del negocio:\n",
        "Una empresa requiere determinar cual es la relación que pudiera existir entre el salario de un trabajador y sus años de experiencia.\n",
        "\n",
        "### Planteamiento:\n",
        "* Pregunta a resolver:  Determinar cual es el salario de un trabajador basado en el número de años de experiencia.\n",
        "* Fuente de datos: Se cuenta con una base de datos que tiene información del salario y años de experiencia de 30 trabajadores.\n",
        "* Vamos a plantear un modelo bastante simple de regresión lineal que encuentre la relación entre el salario de un trabajador y sus años de experiencia.\n",
        "* El dataset utilizado se obtuve de \"https://www.kaggle.com/datasets/abhishek14398/salary-dataset-simple-linear-regression?utm_source=chatgpt.com&select=Salary_dataset.csv\"\n",
        "\n",
        "\n"
      ],
      "metadata": {
        "id": "fI9t0yZfSK4z"
      }
    },
    {
      "cell_type": "code",
      "source": [
        "# Librerías para el tratamiento de los datos\n",
        "import numpy as np\n",
        "import pandas as pd\n",
        "\n",
        "# Librerías para entrenamiento y modelado\n",
        "from sklearn.linear_model import LinearRegression\n",
        "from sklearn.model_selection import train_test_split\n",
        "\n",
        "# Librerías para visualización\n",
        "import matplotlib.pyplot as plt\n",
        "import seaborn as sns"
      ],
      "metadata": {
        "id": "rcwiaZEeSN1a"
      },
      "execution_count": null,
      "outputs": []
    },
    {
      "cell_type": "code",
      "source": [
        "df = pd.read_csv('/content/drive/MyDrive/Data e Inteligencia Artificial/Proyectos independientes/Regresión lineal/Salary_dataset.csv',index_col=0) # El index_col=0 se utiliza para quitar esa primera columna que contiene nuestro data set\n",
        "\n",
        "df.sample(10)"
      ],
      "metadata": {
        "colab": {
          "base_uri": "https://localhost:8080/",
          "height": 363
        },
        "id": "1vAlT_3EXrp2",
        "outputId": "027d2fd9-d90d-4006-9a07-acff96b05316"
      },
      "execution_count": null,
      "outputs": [
        {
          "output_type": "execute_result",
          "data": {
            "text/plain": [
              "    YearsExperience    Salary\n",
              "26              9.6  116970.0\n",
              "25              9.1  105583.0\n",
              "13              4.2   57082.0\n",
              "15              5.0   67939.0\n",
              "22              8.0  101303.0\n",
              "16              5.2   66030.0\n",
              "5               3.0   56643.0\n",
              "28             10.4  122392.0\n",
              "11              4.1   55795.0\n",
              "1               1.4   46206.0"
            ],
            "text/html": [
              "\n",
              "  <div id=\"df-66c11976-3780-41a1-a3ca-b2a4f72bf384\" class=\"colab-df-container\">\n",
              "    <div>\n",
              "<style scoped>\n",
              "    .dataframe tbody tr th:only-of-type {\n",
              "        vertical-align: middle;\n",
              "    }\n",
              "\n",
              "    .dataframe tbody tr th {\n",
              "        vertical-align: top;\n",
              "    }\n",
              "\n",
              "    .dataframe thead th {\n",
              "        text-align: right;\n",
              "    }\n",
              "</style>\n",
              "<table border=\"1\" class=\"dataframe\">\n",
              "  <thead>\n",
              "    <tr style=\"text-align: right;\">\n",
              "      <th></th>\n",
              "      <th>YearsExperience</th>\n",
              "      <th>Salary</th>\n",
              "    </tr>\n",
              "  </thead>\n",
              "  <tbody>\n",
              "    <tr>\n",
              "      <th>26</th>\n",
              "      <td>9.6</td>\n",
              "      <td>116970.0</td>\n",
              "    </tr>\n",
              "    <tr>\n",
              "      <th>25</th>\n",
              "      <td>9.1</td>\n",
              "      <td>105583.0</td>\n",
              "    </tr>\n",
              "    <tr>\n",
              "      <th>13</th>\n",
              "      <td>4.2</td>\n",
              "      <td>57082.0</td>\n",
              "    </tr>\n",
              "    <tr>\n",
              "      <th>15</th>\n",
              "      <td>5.0</td>\n",
              "      <td>67939.0</td>\n",
              "    </tr>\n",
              "    <tr>\n",
              "      <th>22</th>\n",
              "      <td>8.0</td>\n",
              "      <td>101303.0</td>\n",
              "    </tr>\n",
              "    <tr>\n",
              "      <th>16</th>\n",
              "      <td>5.2</td>\n",
              "      <td>66030.0</td>\n",
              "    </tr>\n",
              "    <tr>\n",
              "      <th>5</th>\n",
              "      <td>3.0</td>\n",
              "      <td>56643.0</td>\n",
              "    </tr>\n",
              "    <tr>\n",
              "      <th>28</th>\n",
              "      <td>10.4</td>\n",
              "      <td>122392.0</td>\n",
              "    </tr>\n",
              "    <tr>\n",
              "      <th>11</th>\n",
              "      <td>4.1</td>\n",
              "      <td>55795.0</td>\n",
              "    </tr>\n",
              "    <tr>\n",
              "      <th>1</th>\n",
              "      <td>1.4</td>\n",
              "      <td>46206.0</td>\n",
              "    </tr>\n",
              "  </tbody>\n",
              "</table>\n",
              "</div>\n",
              "    <div class=\"colab-df-buttons\">\n",
              "\n",
              "  <div class=\"colab-df-container\">\n",
              "    <button class=\"colab-df-convert\" onclick=\"convertToInteractive('df-66c11976-3780-41a1-a3ca-b2a4f72bf384')\"\n",
              "            title=\"Convert this dataframe to an interactive table.\"\n",
              "            style=\"display:none;\">\n",
              "\n",
              "  <svg xmlns=\"http://www.w3.org/2000/svg\" height=\"24px\" viewBox=\"0 -960 960 960\">\n",
              "    <path d=\"M120-120v-720h720v720H120Zm60-500h600v-160H180v160Zm220 220h160v-160H400v160Zm0 220h160v-160H400v160ZM180-400h160v-160H180v160Zm440 0h160v-160H620v160ZM180-180h160v-160H180v160Zm440 0h160v-160H620v160Z\"/>\n",
              "  </svg>\n",
              "    </button>\n",
              "\n",
              "  <style>\n",
              "    .colab-df-container {\n",
              "      display:flex;\n",
              "      gap: 12px;\n",
              "    }\n",
              "\n",
              "    .colab-df-convert {\n",
              "      background-color: #E8F0FE;\n",
              "      border: none;\n",
              "      border-radius: 50%;\n",
              "      cursor: pointer;\n",
              "      display: none;\n",
              "      fill: #1967D2;\n",
              "      height: 32px;\n",
              "      padding: 0 0 0 0;\n",
              "      width: 32px;\n",
              "    }\n",
              "\n",
              "    .colab-df-convert:hover {\n",
              "      background-color: #E2EBFA;\n",
              "      box-shadow: 0px 1px 2px rgba(60, 64, 67, 0.3), 0px 1px 3px 1px rgba(60, 64, 67, 0.15);\n",
              "      fill: #174EA6;\n",
              "    }\n",
              "\n",
              "    .colab-df-buttons div {\n",
              "      margin-bottom: 4px;\n",
              "    }\n",
              "\n",
              "    [theme=dark] .colab-df-convert {\n",
              "      background-color: #3B4455;\n",
              "      fill: #D2E3FC;\n",
              "    }\n",
              "\n",
              "    [theme=dark] .colab-df-convert:hover {\n",
              "      background-color: #434B5C;\n",
              "      box-shadow: 0px 1px 3px 1px rgba(0, 0, 0, 0.15);\n",
              "      filter: drop-shadow(0px 1px 2px rgba(0, 0, 0, 0.3));\n",
              "      fill: #FFFFFF;\n",
              "    }\n",
              "  </style>\n",
              "\n",
              "    <script>\n",
              "      const buttonEl =\n",
              "        document.querySelector('#df-66c11976-3780-41a1-a3ca-b2a4f72bf384 button.colab-df-convert');\n",
              "      buttonEl.style.display =\n",
              "        google.colab.kernel.accessAllowed ? 'block' : 'none';\n",
              "\n",
              "      async function convertToInteractive(key) {\n",
              "        const element = document.querySelector('#df-66c11976-3780-41a1-a3ca-b2a4f72bf384');\n",
              "        const dataTable =\n",
              "          await google.colab.kernel.invokeFunction('convertToInteractive',\n",
              "                                                    [key], {});\n",
              "        if (!dataTable) return;\n",
              "\n",
              "        const docLinkHtml = 'Like what you see? Visit the ' +\n",
              "          '<a target=\"_blank\" href=https://colab.research.google.com/notebooks/data_table.ipynb>data table notebook</a>'\n",
              "          + ' to learn more about interactive tables.';\n",
              "        element.innerHTML = '';\n",
              "        dataTable['output_type'] = 'display_data';\n",
              "        await google.colab.output.renderOutput(dataTable, element);\n",
              "        const docLink = document.createElement('div');\n",
              "        docLink.innerHTML = docLinkHtml;\n",
              "        element.appendChild(docLink);\n",
              "      }\n",
              "    </script>\n",
              "  </div>\n",
              "\n",
              "\n",
              "    <div id=\"df-1ede0d5e-f6b9-4077-a56d-7ed9e058a96c\">\n",
              "      <button class=\"colab-df-quickchart\" onclick=\"quickchart('df-1ede0d5e-f6b9-4077-a56d-7ed9e058a96c')\"\n",
              "                title=\"Suggest charts\"\n",
              "                style=\"display:none;\">\n",
              "\n",
              "<svg xmlns=\"http://www.w3.org/2000/svg\" height=\"24px\"viewBox=\"0 0 24 24\"\n",
              "     width=\"24px\">\n",
              "    <g>\n",
              "        <path d=\"M19 3H5c-1.1 0-2 .9-2 2v14c0 1.1.9 2 2 2h14c1.1 0 2-.9 2-2V5c0-1.1-.9-2-2-2zM9 17H7v-7h2v7zm4 0h-2V7h2v10zm4 0h-2v-4h2v4z\"/>\n",
              "    </g>\n",
              "</svg>\n",
              "      </button>\n",
              "\n",
              "<style>\n",
              "  .colab-df-quickchart {\n",
              "      --bg-color: #E8F0FE;\n",
              "      --fill-color: #1967D2;\n",
              "      --hover-bg-color: #E2EBFA;\n",
              "      --hover-fill-color: #174EA6;\n",
              "      --disabled-fill-color: #AAA;\n",
              "      --disabled-bg-color: #DDD;\n",
              "  }\n",
              "\n",
              "  [theme=dark] .colab-df-quickchart {\n",
              "      --bg-color: #3B4455;\n",
              "      --fill-color: #D2E3FC;\n",
              "      --hover-bg-color: #434B5C;\n",
              "      --hover-fill-color: #FFFFFF;\n",
              "      --disabled-bg-color: #3B4455;\n",
              "      --disabled-fill-color: #666;\n",
              "  }\n",
              "\n",
              "  .colab-df-quickchart {\n",
              "    background-color: var(--bg-color);\n",
              "    border: none;\n",
              "    border-radius: 50%;\n",
              "    cursor: pointer;\n",
              "    display: none;\n",
              "    fill: var(--fill-color);\n",
              "    height: 32px;\n",
              "    padding: 0;\n",
              "    width: 32px;\n",
              "  }\n",
              "\n",
              "  .colab-df-quickchart:hover {\n",
              "    background-color: var(--hover-bg-color);\n",
              "    box-shadow: 0 1px 2px rgba(60, 64, 67, 0.3), 0 1px 3px 1px rgba(60, 64, 67, 0.15);\n",
              "    fill: var(--button-hover-fill-color);\n",
              "  }\n",
              "\n",
              "  .colab-df-quickchart-complete:disabled,\n",
              "  .colab-df-quickchart-complete:disabled:hover {\n",
              "    background-color: var(--disabled-bg-color);\n",
              "    fill: var(--disabled-fill-color);\n",
              "    box-shadow: none;\n",
              "  }\n",
              "\n",
              "  .colab-df-spinner {\n",
              "    border: 2px solid var(--fill-color);\n",
              "    border-color: transparent;\n",
              "    border-bottom-color: var(--fill-color);\n",
              "    animation:\n",
              "      spin 1s steps(1) infinite;\n",
              "  }\n",
              "\n",
              "  @keyframes spin {\n",
              "    0% {\n",
              "      border-color: transparent;\n",
              "      border-bottom-color: var(--fill-color);\n",
              "      border-left-color: var(--fill-color);\n",
              "    }\n",
              "    20% {\n",
              "      border-color: transparent;\n",
              "      border-left-color: var(--fill-color);\n",
              "      border-top-color: var(--fill-color);\n",
              "    }\n",
              "    30% {\n",
              "      border-color: transparent;\n",
              "      border-left-color: var(--fill-color);\n",
              "      border-top-color: var(--fill-color);\n",
              "      border-right-color: var(--fill-color);\n",
              "    }\n",
              "    40% {\n",
              "      border-color: transparent;\n",
              "      border-right-color: var(--fill-color);\n",
              "      border-top-color: var(--fill-color);\n",
              "    }\n",
              "    60% {\n",
              "      border-color: transparent;\n",
              "      border-right-color: var(--fill-color);\n",
              "    }\n",
              "    80% {\n",
              "      border-color: transparent;\n",
              "      border-right-color: var(--fill-color);\n",
              "      border-bottom-color: var(--fill-color);\n",
              "    }\n",
              "    90% {\n",
              "      border-color: transparent;\n",
              "      border-bottom-color: var(--fill-color);\n",
              "    }\n",
              "  }\n",
              "</style>\n",
              "\n",
              "      <script>\n",
              "        async function quickchart(key) {\n",
              "          const quickchartButtonEl =\n",
              "            document.querySelector('#' + key + ' button');\n",
              "          quickchartButtonEl.disabled = true;  // To prevent multiple clicks.\n",
              "          quickchartButtonEl.classList.add('colab-df-spinner');\n",
              "          try {\n",
              "            const charts = await google.colab.kernel.invokeFunction(\n",
              "                'suggestCharts', [key], {});\n",
              "          } catch (error) {\n",
              "            console.error('Error during call to suggestCharts:', error);\n",
              "          }\n",
              "          quickchartButtonEl.classList.remove('colab-df-spinner');\n",
              "          quickchartButtonEl.classList.add('colab-df-quickchart-complete');\n",
              "        }\n",
              "        (() => {\n",
              "          let quickchartButtonEl =\n",
              "            document.querySelector('#df-1ede0d5e-f6b9-4077-a56d-7ed9e058a96c button');\n",
              "          quickchartButtonEl.style.display =\n",
              "            google.colab.kernel.accessAllowed ? 'block' : 'none';\n",
              "        })();\n",
              "      </script>\n",
              "    </div>\n",
              "\n",
              "    </div>\n",
              "  </div>\n"
            ],
            "application/vnd.google.colaboratory.intrinsic+json": {
              "type": "dataframe",
              "summary": "{\n  \"name\": \"df\",\n  \"rows\": 10,\n  \"fields\": [\n    {\n      \"column\": \"YearsExperience\",\n      \"properties\": {\n        \"dtype\": \"number\",\n        \"std\": 3.065579517444912,\n        \"min\": 1.4,\n        \"max\": 10.4,\n        \"num_unique_values\": 10,\n        \"samples\": [\n          4.1,\n          9.1,\n          5.199999999999999\n        ],\n        \"semantic_type\": \"\",\n        \"description\": \"\"\n      }\n    },\n    {\n      \"column\": \"Salary\",\n      \"properties\": {\n        \"dtype\": \"number\",\n        \"std\": 28693.502152732923,\n        \"min\": 46206.0,\n        \"max\": 122392.0,\n        \"num_unique_values\": 10,\n        \"samples\": [\n          55795.0,\n          105583.0,\n          66030.0\n        ],\n        \"semantic_type\": \"\",\n        \"description\": \"\"\n      }\n    }\n  ]\n}"
            }
          },
          "metadata": {},
          "execution_count": 2
        }
      ]
    },
    {
      "cell_type": "markdown",
      "source": [
        "\n",
        "\n",
        "*   La primera columna YearsExperience representa los años de experiencia de un trabajador individual.\n",
        "*   La segunda columna Salary representa el salario anual de un trabajador individual.\n",
        "\n",
        "Cambiamos los nombres de las columas a español.\n",
        "\n",
        "\n"
      ],
      "metadata": {
        "id": "9ebMfHPvYOdf"
      }
    },
    {
      "cell_type": "code",
      "source": [
        "df = df.rename(columns={\n",
        "    \"YearsExperience\": \"AñosExperiencia\",\n",
        "    \"Salary\": \"Salario\"\n",
        "})"
      ],
      "metadata": {
        "id": "ap8N-JkYY6Vu"
      },
      "execution_count": null,
      "outputs": []
    },
    {
      "cell_type": "markdown",
      "source": [
        "Se revisa el tamañao del dataset"
      ],
      "metadata": {
        "id": "0Zq3bhnYbc5Y"
      }
    },
    {
      "cell_type": "code",
      "source": [
        "df.shape"
      ],
      "metadata": {
        "colab": {
          "base_uri": "https://localhost:8080/"
        },
        "id": "3HpicurJaviu",
        "outputId": "ebe56bd9-6fd8-4077-a493-b37e0f23c9f3"
      },
      "execution_count": null,
      "outputs": [
        {
          "output_type": "execute_result",
          "data": {
            "text/plain": [
              "(30, 2)"
            ]
          },
          "metadata": {},
          "execution_count": 4
        }
      ]
    },
    {
      "cell_type": "markdown",
      "source": [
        "Revisamos si las columnas contienen valores nulls"
      ],
      "metadata": {
        "id": "HNPNZZaZbzl4"
      }
    },
    {
      "cell_type": "code",
      "source": [
        "df.info()"
      ],
      "metadata": {
        "colab": {
          "base_uri": "https://localhost:8080/"
        },
        "id": "uIlcWIkNbYwv",
        "outputId": "4a12c3ed-b29b-4362-9302-78372abae8df"
      },
      "execution_count": null,
      "outputs": [
        {
          "output_type": "stream",
          "name": "stdout",
          "text": [
            "<class 'pandas.core.frame.DataFrame'>\n",
            "Index: 30 entries, 0 to 29\n",
            "Data columns (total 2 columns):\n",
            " #   Column           Non-Null Count  Dtype  \n",
            "---  ------           --------------  -----  \n",
            " 0   AñosExperiencia  30 non-null     float64\n",
            " 1   Salario          30 non-null     float64\n",
            "dtypes: float64(2)\n",
            "memory usage: 720.0 bytes\n"
          ]
        }
      ]
    },
    {
      "cell_type": "markdown",
      "source": [
        "* El campo *AñosExperiencia* presenta 30 valores no nulos, no posee valores\n",
        "nulos\n",
        "* El campo *Salario* presenta 30 valores no nulos, es decir, tampoco presenta valores nulos\n"
      ],
      "metadata": {
        "id": "H7BEH73ab64Q"
      }
    },
    {
      "cell_type": "markdown",
      "source": [
        "Estadística descriptiva de los datos"
      ],
      "metadata": {
        "id": "6cQTSFn5cNJI"
      }
    },
    {
      "cell_type": "code",
      "source": [
        "df.describe()"
      ],
      "metadata": {
        "colab": {
          "base_uri": "https://localhost:8080/",
          "height": 300
        },
        "id": "k-GlUgSgbycH",
        "outputId": "10dcaa06-752c-4b82-a457-5fe3d9165fb0"
      },
      "execution_count": null,
      "outputs": [
        {
          "output_type": "execute_result",
          "data": {
            "text/plain": [
              "       AñosExperiencia        Salario\n",
              "count        30.000000      30.000000\n",
              "mean          5.413333   76004.000000\n",
              "std           2.837888   27414.429785\n",
              "min           1.200000   37732.000000\n",
              "25%           3.300000   56721.750000\n",
              "50%           4.800000   65238.000000\n",
              "75%           7.800000  100545.750000\n",
              "max          10.600000  122392.000000"
            ],
            "text/html": [
              "\n",
              "  <div id=\"df-ae520d97-4552-4d81-906d-d23864f9dcb2\" class=\"colab-df-container\">\n",
              "    <div>\n",
              "<style scoped>\n",
              "    .dataframe tbody tr th:only-of-type {\n",
              "        vertical-align: middle;\n",
              "    }\n",
              "\n",
              "    .dataframe tbody tr th {\n",
              "        vertical-align: top;\n",
              "    }\n",
              "\n",
              "    .dataframe thead th {\n",
              "        text-align: right;\n",
              "    }\n",
              "</style>\n",
              "<table border=\"1\" class=\"dataframe\">\n",
              "  <thead>\n",
              "    <tr style=\"text-align: right;\">\n",
              "      <th></th>\n",
              "      <th>AñosExperiencia</th>\n",
              "      <th>Salario</th>\n",
              "    </tr>\n",
              "  </thead>\n",
              "  <tbody>\n",
              "    <tr>\n",
              "      <th>count</th>\n",
              "      <td>30.000000</td>\n",
              "      <td>30.000000</td>\n",
              "    </tr>\n",
              "    <tr>\n",
              "      <th>mean</th>\n",
              "      <td>5.413333</td>\n",
              "      <td>76004.000000</td>\n",
              "    </tr>\n",
              "    <tr>\n",
              "      <th>std</th>\n",
              "      <td>2.837888</td>\n",
              "      <td>27414.429785</td>\n",
              "    </tr>\n",
              "    <tr>\n",
              "      <th>min</th>\n",
              "      <td>1.200000</td>\n",
              "      <td>37732.000000</td>\n",
              "    </tr>\n",
              "    <tr>\n",
              "      <th>25%</th>\n",
              "      <td>3.300000</td>\n",
              "      <td>56721.750000</td>\n",
              "    </tr>\n",
              "    <tr>\n",
              "      <th>50%</th>\n",
              "      <td>4.800000</td>\n",
              "      <td>65238.000000</td>\n",
              "    </tr>\n",
              "    <tr>\n",
              "      <th>75%</th>\n",
              "      <td>7.800000</td>\n",
              "      <td>100545.750000</td>\n",
              "    </tr>\n",
              "    <tr>\n",
              "      <th>max</th>\n",
              "      <td>10.600000</td>\n",
              "      <td>122392.000000</td>\n",
              "    </tr>\n",
              "  </tbody>\n",
              "</table>\n",
              "</div>\n",
              "    <div class=\"colab-df-buttons\">\n",
              "\n",
              "  <div class=\"colab-df-container\">\n",
              "    <button class=\"colab-df-convert\" onclick=\"convertToInteractive('df-ae520d97-4552-4d81-906d-d23864f9dcb2')\"\n",
              "            title=\"Convert this dataframe to an interactive table.\"\n",
              "            style=\"display:none;\">\n",
              "\n",
              "  <svg xmlns=\"http://www.w3.org/2000/svg\" height=\"24px\" viewBox=\"0 -960 960 960\">\n",
              "    <path d=\"M120-120v-720h720v720H120Zm60-500h600v-160H180v160Zm220 220h160v-160H400v160Zm0 220h160v-160H400v160ZM180-400h160v-160H180v160Zm440 0h160v-160H620v160ZM180-180h160v-160H180v160Zm440 0h160v-160H620v160Z\"/>\n",
              "  </svg>\n",
              "    </button>\n",
              "\n",
              "  <style>\n",
              "    .colab-df-container {\n",
              "      display:flex;\n",
              "      gap: 12px;\n",
              "    }\n",
              "\n",
              "    .colab-df-convert {\n",
              "      background-color: #E8F0FE;\n",
              "      border: none;\n",
              "      border-radius: 50%;\n",
              "      cursor: pointer;\n",
              "      display: none;\n",
              "      fill: #1967D2;\n",
              "      height: 32px;\n",
              "      padding: 0 0 0 0;\n",
              "      width: 32px;\n",
              "    }\n",
              "\n",
              "    .colab-df-convert:hover {\n",
              "      background-color: #E2EBFA;\n",
              "      box-shadow: 0px 1px 2px rgba(60, 64, 67, 0.3), 0px 1px 3px 1px rgba(60, 64, 67, 0.15);\n",
              "      fill: #174EA6;\n",
              "    }\n",
              "\n",
              "    .colab-df-buttons div {\n",
              "      margin-bottom: 4px;\n",
              "    }\n",
              "\n",
              "    [theme=dark] .colab-df-convert {\n",
              "      background-color: #3B4455;\n",
              "      fill: #D2E3FC;\n",
              "    }\n",
              "\n",
              "    [theme=dark] .colab-df-convert:hover {\n",
              "      background-color: #434B5C;\n",
              "      box-shadow: 0px 1px 3px 1px rgba(0, 0, 0, 0.15);\n",
              "      filter: drop-shadow(0px 1px 2px rgba(0, 0, 0, 0.3));\n",
              "      fill: #FFFFFF;\n",
              "    }\n",
              "  </style>\n",
              "\n",
              "    <script>\n",
              "      const buttonEl =\n",
              "        document.querySelector('#df-ae520d97-4552-4d81-906d-d23864f9dcb2 button.colab-df-convert');\n",
              "      buttonEl.style.display =\n",
              "        google.colab.kernel.accessAllowed ? 'block' : 'none';\n",
              "\n",
              "      async function convertToInteractive(key) {\n",
              "        const element = document.querySelector('#df-ae520d97-4552-4d81-906d-d23864f9dcb2');\n",
              "        const dataTable =\n",
              "          await google.colab.kernel.invokeFunction('convertToInteractive',\n",
              "                                                    [key], {});\n",
              "        if (!dataTable) return;\n",
              "\n",
              "        const docLinkHtml = 'Like what you see? Visit the ' +\n",
              "          '<a target=\"_blank\" href=https://colab.research.google.com/notebooks/data_table.ipynb>data table notebook</a>'\n",
              "          + ' to learn more about interactive tables.';\n",
              "        element.innerHTML = '';\n",
              "        dataTable['output_type'] = 'display_data';\n",
              "        await google.colab.output.renderOutput(dataTable, element);\n",
              "        const docLink = document.createElement('div');\n",
              "        docLink.innerHTML = docLinkHtml;\n",
              "        element.appendChild(docLink);\n",
              "      }\n",
              "    </script>\n",
              "  </div>\n",
              "\n",
              "\n",
              "    <div id=\"df-5ad913e7-f6a5-425a-a455-a9a5afc4df8d\">\n",
              "      <button class=\"colab-df-quickchart\" onclick=\"quickchart('df-5ad913e7-f6a5-425a-a455-a9a5afc4df8d')\"\n",
              "                title=\"Suggest charts\"\n",
              "                style=\"display:none;\">\n",
              "\n",
              "<svg xmlns=\"http://www.w3.org/2000/svg\" height=\"24px\"viewBox=\"0 0 24 24\"\n",
              "     width=\"24px\">\n",
              "    <g>\n",
              "        <path d=\"M19 3H5c-1.1 0-2 .9-2 2v14c0 1.1.9 2 2 2h14c1.1 0 2-.9 2-2V5c0-1.1-.9-2-2-2zM9 17H7v-7h2v7zm4 0h-2V7h2v10zm4 0h-2v-4h2v4z\"/>\n",
              "    </g>\n",
              "</svg>\n",
              "      </button>\n",
              "\n",
              "<style>\n",
              "  .colab-df-quickchart {\n",
              "      --bg-color: #E8F0FE;\n",
              "      --fill-color: #1967D2;\n",
              "      --hover-bg-color: #E2EBFA;\n",
              "      --hover-fill-color: #174EA6;\n",
              "      --disabled-fill-color: #AAA;\n",
              "      --disabled-bg-color: #DDD;\n",
              "  }\n",
              "\n",
              "  [theme=dark] .colab-df-quickchart {\n",
              "      --bg-color: #3B4455;\n",
              "      --fill-color: #D2E3FC;\n",
              "      --hover-bg-color: #434B5C;\n",
              "      --hover-fill-color: #FFFFFF;\n",
              "      --disabled-bg-color: #3B4455;\n",
              "      --disabled-fill-color: #666;\n",
              "  }\n",
              "\n",
              "  .colab-df-quickchart {\n",
              "    background-color: var(--bg-color);\n",
              "    border: none;\n",
              "    border-radius: 50%;\n",
              "    cursor: pointer;\n",
              "    display: none;\n",
              "    fill: var(--fill-color);\n",
              "    height: 32px;\n",
              "    padding: 0;\n",
              "    width: 32px;\n",
              "  }\n",
              "\n",
              "  .colab-df-quickchart:hover {\n",
              "    background-color: var(--hover-bg-color);\n",
              "    box-shadow: 0 1px 2px rgba(60, 64, 67, 0.3), 0 1px 3px 1px rgba(60, 64, 67, 0.15);\n",
              "    fill: var(--button-hover-fill-color);\n",
              "  }\n",
              "\n",
              "  .colab-df-quickchart-complete:disabled,\n",
              "  .colab-df-quickchart-complete:disabled:hover {\n",
              "    background-color: var(--disabled-bg-color);\n",
              "    fill: var(--disabled-fill-color);\n",
              "    box-shadow: none;\n",
              "  }\n",
              "\n",
              "  .colab-df-spinner {\n",
              "    border: 2px solid var(--fill-color);\n",
              "    border-color: transparent;\n",
              "    border-bottom-color: var(--fill-color);\n",
              "    animation:\n",
              "      spin 1s steps(1) infinite;\n",
              "  }\n",
              "\n",
              "  @keyframes spin {\n",
              "    0% {\n",
              "      border-color: transparent;\n",
              "      border-bottom-color: var(--fill-color);\n",
              "      border-left-color: var(--fill-color);\n",
              "    }\n",
              "    20% {\n",
              "      border-color: transparent;\n",
              "      border-left-color: var(--fill-color);\n",
              "      border-top-color: var(--fill-color);\n",
              "    }\n",
              "    30% {\n",
              "      border-color: transparent;\n",
              "      border-left-color: var(--fill-color);\n",
              "      border-top-color: var(--fill-color);\n",
              "      border-right-color: var(--fill-color);\n",
              "    }\n",
              "    40% {\n",
              "      border-color: transparent;\n",
              "      border-right-color: var(--fill-color);\n",
              "      border-top-color: var(--fill-color);\n",
              "    }\n",
              "    60% {\n",
              "      border-color: transparent;\n",
              "      border-right-color: var(--fill-color);\n",
              "    }\n",
              "    80% {\n",
              "      border-color: transparent;\n",
              "      border-right-color: var(--fill-color);\n",
              "      border-bottom-color: var(--fill-color);\n",
              "    }\n",
              "    90% {\n",
              "      border-color: transparent;\n",
              "      border-bottom-color: var(--fill-color);\n",
              "    }\n",
              "  }\n",
              "</style>\n",
              "\n",
              "      <script>\n",
              "        async function quickchart(key) {\n",
              "          const quickchartButtonEl =\n",
              "            document.querySelector('#' + key + ' button');\n",
              "          quickchartButtonEl.disabled = true;  // To prevent multiple clicks.\n",
              "          quickchartButtonEl.classList.add('colab-df-spinner');\n",
              "          try {\n",
              "            const charts = await google.colab.kernel.invokeFunction(\n",
              "                'suggestCharts', [key], {});\n",
              "          } catch (error) {\n",
              "            console.error('Error during call to suggestCharts:', error);\n",
              "          }\n",
              "          quickchartButtonEl.classList.remove('colab-df-spinner');\n",
              "          quickchartButtonEl.classList.add('colab-df-quickchart-complete');\n",
              "        }\n",
              "        (() => {\n",
              "          let quickchartButtonEl =\n",
              "            document.querySelector('#df-5ad913e7-f6a5-425a-a455-a9a5afc4df8d button');\n",
              "          quickchartButtonEl.style.display =\n",
              "            google.colab.kernel.accessAllowed ? 'block' : 'none';\n",
              "        })();\n",
              "      </script>\n",
              "    </div>\n",
              "\n",
              "    </div>\n",
              "  </div>\n"
            ],
            "application/vnd.google.colaboratory.intrinsic+json": {
              "type": "dataframe",
              "summary": "{\n  \"name\": \"df\",\n  \"rows\": 8,\n  \"fields\": [\n    {\n      \"column\": \"A\\u00f1osExperiencia\",\n      \"properties\": {\n        \"dtype\": \"number\",\n        \"std\": 9.275407845895339,\n        \"min\": 1.2000000000000002,\n        \"max\": 30.0,\n        \"num_unique_values\": 8,\n        \"samples\": [\n          5.413333333333332,\n          4.8,\n          30.0\n        ],\n        \"semantic_type\": \"\",\n        \"description\": \"\"\n      }\n    },\n    {\n      \"column\": \"Salario\",\n      \"properties\": {\n        \"dtype\": \"number\",\n        \"std\": 39606.091787178084,\n        \"min\": 30.0,\n        \"max\": 122392.0,\n        \"num_unique_values\": 8,\n        \"samples\": [\n          76004.0,\n          65238.0,\n          30.0\n        ],\n        \"semantic_type\": \"\",\n        \"description\": \"\"\n      }\n    }\n  ]\n}"
            }
          },
          "metadata": {},
          "execution_count": 6
        }
      ]
    },
    {
      "cell_type": "markdown",
      "source": [
        "* El promedio de numero de años de experiencia que tiene un individuo en este dataset es de 5.4 años.\n",
        "* El salario (en dólares) promedio de un individuo en este dataset es de $76,004"
      ],
      "metadata": {
        "id": "3_JNiAF5hVi7"
      }
    },
    {
      "cell_type": "code",
      "source": [
        "df.skew()"
      ],
      "metadata": {
        "colab": {
          "base_uri": "https://localhost:8080/",
          "height": 147
        },
        "id": "SwwCds3Ud-hQ",
        "outputId": "4a822e61-a07e-4ce4-f65b-c5b189c3c2e2"
      },
      "execution_count": null,
      "outputs": [
        {
          "output_type": "execute_result",
          "data": {
            "text/plain": [
              "AñosExperiencia    0.37956\n",
              "Salario            0.35412\n",
              "dtype: float64"
            ],
            "text/html": [
              "<div>\n",
              "<style scoped>\n",
              "    .dataframe tbody tr th:only-of-type {\n",
              "        vertical-align: middle;\n",
              "    }\n",
              "\n",
              "    .dataframe tbody tr th {\n",
              "        vertical-align: top;\n",
              "    }\n",
              "\n",
              "    .dataframe thead th {\n",
              "        text-align: right;\n",
              "    }\n",
              "</style>\n",
              "<table border=\"1\" class=\"dataframe\">\n",
              "  <thead>\n",
              "    <tr style=\"text-align: right;\">\n",
              "      <th></th>\n",
              "      <th>0</th>\n",
              "    </tr>\n",
              "  </thead>\n",
              "  <tbody>\n",
              "    <tr>\n",
              "      <th>AñosExperiencia</th>\n",
              "      <td>0.37956</td>\n",
              "    </tr>\n",
              "    <tr>\n",
              "      <th>Salario</th>\n",
              "      <td>0.35412</td>\n",
              "    </tr>\n",
              "  </tbody>\n",
              "</table>\n",
              "</div><br><label><b>dtype:</b> float64</label>"
            ]
          },
          "metadata": {},
          "execution_count": 7
        }
      ]
    },
    {
      "cell_type": "code",
      "source": [
        "plt.figure(figsize = (12, 6))\n",
        "\n",
        "sns.histplot(x = df['AñosExperiencia'], bins = 20, kde = True, color = 'orange')\n",
        "\n",
        "# 2️⃣ Generar observaciones automáticas\n",
        "valor_min = df['AñosExperiencia'].min()\n",
        "valor_max = df['AñosExperiencia'].max()\n",
        "promedio = df['AñosExperiencia'].mean()\n",
        "mediana = df['AñosExperiencia'].median()\n",
        "\n",
        "# Detectar valores atípicos con método IQR\n",
        "Q1 = df['AñosExperiencia'].quantile(0.25)\n",
        "Q3 = df['AñosExperiencia'].quantile(0.75)\n",
        "IQR = Q3 - Q1\n",
        "limite_inferior = Q1 - 1.5 * IQR\n",
        "limite_superior = Q3 + 1.5 * IQR\n",
        "outliers = df[(df['AñosExperiencia'] < limite_inferior) | (df['AñosExperiencia'] > limite_superior)]\n",
        "\n",
        "print(\"📊 Observaciones:\")\n",
        "print(f\"- El rango de AñosExperiencia es de {valor_min} a {valor_max}.\")\n",
        "print(f\"- El promedio es {promedio:.2f} y la mediana es {mediana:.2f}.\")\n",
        "print(f\"- {'No se detectaron' if outliers.empty else f'Se detectaron {len(outliers)}'} valores atípicos.\")\n",
        "print(f\"- Primer cuartil {Q1}.\")\n",
        "print(f\"- Tercer cuartil {Q3}.\")\n",
        "print(f\"- Rango intercuartil {IQR}\")"
      ],
      "metadata": {
        "colab": {
          "base_uri": "https://localhost:8080/",
          "height": 664
        },
        "id": "LGkl-f3hhcuy",
        "outputId": "b9bb906b-f2db-47d2-df98-ea7c1e2d6b21"
      },
      "execution_count": null,
      "outputs": [
        {
          "output_type": "stream",
          "name": "stdout",
          "text": [
            "📊 Observaciones:\n",
            "- El rango de AñosExperiencia es de 1.2000000000000002 a 10.6.\n",
            "- El promedio es 5.41 y la mediana es 4.80.\n",
            "- No se detectaron valores atípicos.\n",
            "- Primer cuartil 3.3000000000000003.\n",
            "- Tercer cuartil 7.8.\n",
            "- Rango intercuartil 4.5\n"
          ]
        },
        {
          "output_type": "display_data",
          "data": {
            "text/plain": [
              "<Figure size 1200x600 with 1 Axes>"
            ],
            "image/png": "[encoded data removed]"
          },
          "metadata": {}
        }
      ]
    },
    {
      "cell_type": "code",
      "source": [
        "\n",
        "\n",
        "plt.figure(figsize = (12, 6))\n",
        "\n",
        "sns.histplot(x = df['Salario'], bins = 20, kde = True, color = 'green')\n",
        "\n",
        "# 2️⃣ Generar observaciones automáticas\n",
        "valor_min = df['Salario'].min()\n",
        "valor_max = df['Salario'].max()\n",
        "promedio = df['Salario'].mean()\n",
        "mediana = df['Salario'].median()\n",
        "\n",
        "# Detectar valores atípicos con método IQR\n",
        "Q1 = df['Salario'].quantile(0.25)\n",
        "Q3 = df['Salario'].quantile(0.75)\n",
        "IQR = Q3 - Q1\n",
        "limite_inferior = Q1 - 1.5 * IQR\n",
        "limite_superior = Q3 + 1.5 * IQR\n",
        "outliers = df[(df['Salario'] < limite_inferior) | (df['Salario'] > limite_superior)]\n",
        "\n",
        "print(\"📊 Observaciones:\")\n",
        "print(f\"- El rango de Salario es de {valor_min} a {valor_max}.\")\n",
        "print(f\"- El promedio es {promedio:.2f} y la mediana es {mediana:.2f}.\")\n",
        "print(f\"- {'No se detectaron' if outliers.empty else f'Se detectaron {len(outliers)}'} valores atípicos.\")\n",
        "print(f\"- Primer cuartil {Q1}.\")\n",
        "print(f\"- Tercer cuartil {Q3}.\")\n",
        "print(f\"- Rango intercuartil {IQR}\")"
      ],
      "metadata": {
        "colab": {
          "base_uri": "https://localhost:8080/",
          "height": 664
        },
        "id": "PEj-3r08hzMz",
        "outputId": "b00f4dd6-79ef-4c93-f941-4077c9b4b63d"
      },
      "execution_count": null,
      "outputs": [
        {
          "output_type": "stream",
          "name": "stdout",
          "text": [
            "📊 Observaciones:\n",
            "- El rango de Salario es de 37732.0 a 122392.0.\n",
            "- El promedio es 76004.00 y la mediana es 65238.00.\n",
            "- No se detectaron valores atípicos.\n",
            "- Primer cuartil 56721.75.\n",
            "- Tercer cuartil 100545.75.\n",
            "- Rango intercuartil 43824.0\n"
          ]
        },
        {
          "output_type": "display_data",
          "data": {
            "text/plain": [
              "<Figure size 1200x600 with 1 Axes>"
            ],
            "image/png": "[encoded data removed]"
          },
          "metadata": {}
        }
      ]
    },
    {
      "cell_type": "code",
      "source": [
        "plt.figure(figsize = (12, 8))\n",
        "\n",
        "sns.boxplot(y = df['AñosExperiencia'], color = 'azure')"
      ],
      "metadata": {
        "id": "bftaVwb-iF2q",
        "colab": {
          "base_uri": "https://localhost:8080/",
          "height": 674
        },
        "outputId": "b113bc86-537b-41ad-f591-f8b4fc8cc5e2"
      },
      "execution_count": null,
      "outputs": [
        {
          "output_type": "execute_result",
          "data": {
            "text/plain": [
              "<Axes: ylabel='AñosExperiencia'>"
            ]
          },
          "metadata": {},
          "execution_count": 10
        },
        {
          "output_type": "display_data",
          "data": {
            "text/plain": [
              "<Figure size 1200x800 with 1 Axes>"
            ],
            "image/png": "[encoded data removed]"
          },
          "metadata": {}
        }
      ]
    },
    {
      "cell_type": "code",
      "source": [
        "plt.figure(figsize = (12, 8))\n",
        "\n",
        "sns.boxplot(y = df['Salario'], color = 'maroon')"
      ],
      "metadata": {
        "id": "2nOydalwj4M8",
        "colab": {
          "base_uri": "https://localhost:8080/",
          "height": 674
        },
        "outputId": "0a8f9c0a-9359-451e-826d-cfc4a686b8ef"
      },
      "execution_count": null,
      "outputs": [
        {
          "output_type": "execute_result",
          "data": {
            "text/plain": [
              "<Axes: ylabel='Salario'>"
            ]
          },
          "metadata": {},
          "execution_count": 11
        },
        {
          "output_type": "display_data",
          "data": {
            "text/plain": [
              "<Figure size 1200x800 with 1 Axes>"
            ],
            "image/png": "[encoded data removed]"
          },
          "metadata": {}
        }
      ]
    },
    {
      "cell_type": "markdown",
      "source": [
        "Los *outliers* son detectados utilizado el método IQR, con este método, un *Outlier* es un punto que está **1.5 veces el valor del rango intercuartil** arriba del tercer cuartil o abajo del primer cuartil.\n",
        "\n",
        "Mostramos solamente las filas que son *outliers*:"
      ],
      "metadata": {
        "id": "T4KdueA9PZA6"
      }
    },
    {
      "cell_type": "code",
      "source": [
        "Q1 = df.quantile(0.25, axis=0)\n",
        "Q3 = df.quantile(0.75, axis = 0)\n",
        "IQR = Q3 - Q1\n",
        "\n",
        "salary_data_outliers = df[((df < (Q1 - 1.5 * IQR)) |\\\n",
        "                                    (df > (Q3 + 1.5 * IQR))).any(axis = 1)]\n",
        "\n",
        "salary_data_outliers"
      ],
      "metadata": {
        "colab": {
          "base_uri": "https://localhost:8080/",
          "height": 89
        },
        "id": "u9txSnnKOEjB",
        "outputId": "018662b3-0ef1-4239-df85-144f68d19ab4"
      },
      "execution_count": null,
      "outputs": [
        {
          "output_type": "execute_result",
          "data": {
            "text/plain": [
              "Empty DataFrame\n",
              "Columns: [AñosExperiencia, Salario]\n",
              "Index: []"
            ],
            "text/html": [
              "\n",
              "  <div id=\"df-1dbee8c2-15e1-4058-8718-387c68d773ea\" class=\"colab-df-container\">\n",
              "    <div>\n",
              "<style scoped>\n",
              "    .dataframe tbody tr th:only-of-type {\n",
              "        vertical-align: middle;\n",
              "    }\n",
              "\n",
              "    .dataframe tbody tr th {\n",
              "        vertical-align: top;\n",
              "    }\n",
              "\n",
              "    .dataframe thead th {\n",
              "        text-align: right;\n",
              "    }\n",
              "</style>\n",
              "<table border=\"1\" class=\"dataframe\">\n",
              "  <thead>\n",
              "    <tr style=\"text-align: right;\">\n",
              "      <th></th>\n",
              "      <th>AñosExperiencia</th>\n",
              "      <th>Salario</th>\n",
              "    </tr>\n",
              "  </thead>\n",
              "  <tbody>\n",
              "  </tbody>\n",
              "</table>\n",
              "</div>\n",
              "    <div class=\"colab-df-buttons\">\n",
              "\n",
              "  <div class=\"colab-df-container\">\n",
              "    <button class=\"colab-df-convert\" onclick=\"convertToInteractive('df-1dbee8c2-15e1-4058-8718-387c68d773ea')\"\n",
              "            title=\"Convert this dataframe to an interactive table.\"\n",
              "            style=\"display:none;\">\n",
              "\n",
              "  <svg xmlns=\"http://www.w3.org/2000/svg\" height=\"24px\" viewBox=\"0 -960 960 960\">\n",
              "    <path d=\"M120-120v-720h720v720H120Zm60-500h600v-160H180v160Zm220 220h160v-160H400v160Zm0 220h160v-160H400v160ZM180-400h160v-160H180v160Zm440 0h160v-160H620v160ZM180-180h160v-160H180v160Zm440 0h160v-160H620v160Z\"/>\n",
              "  </svg>\n",
              "    </button>\n",
              "\n",
              "  <style>\n",
              "    .colab-df-container {\n",
              "      display:flex;\n",
              "      gap: 12px;\n",
              "    }\n",
              "\n",
              "    .colab-df-convert {\n",
              "      background-color: #E8F0FE;\n",
              "      border: none;\n",
              "      border-radius: 50%;\n",
              "      cursor: pointer;\n",
              "      display: none;\n",
              "      fill: #1967D2;\n",
              "      height: 32px;\n",
              "      padding: 0 0 0 0;\n",
              "      width: 32px;\n",
              "    }\n",
              "\n",
              "    .colab-df-convert:hover {\n",
              "      background-color: #E2EBFA;\n",
              "      box-shadow: 0px 1px 2px rgba(60, 64, 67, 0.3), 0px 1px 3px 1px rgba(60, 64, 67, 0.15);\n",
              "      fill: #174EA6;\n",
              "    }\n",
              "\n",
              "    .colab-df-buttons div {\n",
              "      margin-bottom: 4px;\n",
              "    }\n",
              "\n",
              "    [theme=dark] .colab-df-convert {\n",
              "      background-color: #3B4455;\n",
              "      fill: #D2E3FC;\n",
              "    }\n",
              "\n",
              "    [theme=dark] .colab-df-convert:hover {\n",
              "      background-color: #434B5C;\n",
              "      box-shadow: 0px 1px 3px 1px rgba(0, 0, 0, 0.15);\n",
              "      filter: drop-shadow(0px 1px 2px rgba(0, 0, 0, 0.3));\n",
              "      fill: #FFFFFF;\n",
              "    }\n",
              "  </style>\n",
              "\n",
              "    <script>\n",
              "      const buttonEl =\n",
              "        document.querySelector('#df-1dbee8c2-15e1-4058-8718-387c68d773ea button.colab-df-convert');\n",
              "      buttonEl.style.display =\n",
              "        google.colab.kernel.accessAllowed ? 'block' : 'none';\n",
              "\n",
              "      async function convertToInteractive(key) {\n",
              "        const element = document.querySelector('#df-1dbee8c2-15e1-4058-8718-387c68d773ea');\n",
              "        const dataTable =\n",
              "          await google.colab.kernel.invokeFunction('convertToInteractive',\n",
              "                                                    [key], {});\n",
              "        if (!dataTable) return;\n",
              "\n",
              "        const docLinkHtml = 'Like what you see? Visit the ' +\n",
              "          '<a target=\"_blank\" href=https://colab.research.google.com/notebooks/data_table.ipynb>data table notebook</a>'\n",
              "          + ' to learn more about interactive tables.';\n",
              "        element.innerHTML = '';\n",
              "        dataTable['output_type'] = 'display_data';\n",
              "        await google.colab.output.renderOutput(dataTable, element);\n",
              "        const docLink = document.createElement('div');\n",
              "        docLink.innerHTML = docLinkHtml;\n",
              "        element.appendChild(docLink);\n",
              "      }\n",
              "    </script>\n",
              "  </div>\n",
              "\n",
              "\n",
              "  <div id=\"id_43153c13-bb8c-4521-9640-05d09ac92278\">\n",
              "    <style>\n",
              "      .colab-df-generate {\n",
              "        background-color: #E8F0FE;\n",
              "        border: none;\n",
              "        border-radius: 50%;\n",
              "        cursor: pointer;\n",
              "        display: none;\n",
              "        fill: #1967D2;\n",
              "        height: 32px;\n",
              "        padding: 0 0 0 0;\n",
              "        width: 32px;\n",
              "      }\n",
              "\n",
              "      .colab-df-generate:hover {\n",
              "        background-color: #E2EBFA;\n",
              "        box-shadow: 0px 1px 2px rgba(60, 64, 67, 0.3), 0px 1px 3px 1px rgba(60, 64, 67, 0.15);\n",
              "        fill: #174EA6;\n",
              "      }\n",
              "\n",
              "      [theme=dark] .colab-df-generate {\n",
              "        background-color: #3B4455;\n",
              "        fill: #D2E3FC;\n",
              "      }\n",
              "\n",
              "      [theme=dark] .colab-df-generate:hover {\n",
              "        background-color: #434B5C;\n",
              "        box-shadow: 0px 1px 3px 1px rgba(0, 0, 0, 0.15);\n",
              "        filter: drop-shadow(0px 1px 2px rgba(0, 0, 0, 0.3));\n",
              "        fill: #FFFFFF;\n",
              "      }\n",
              "    </style>\n",
              "    <button class=\"colab-df-generate\" onclick=\"generateWithVariable('salary_data_outliers')\"\n",
              "            title=\"Generate code using this dataframe.\"\n",
              "            style=\"display:none;\">\n",
              "\n",
              "  <svg xmlns=\"http://www.w3.org/2000/svg\" height=\"24px\"viewBox=\"0 0 24 24\"\n",
              "       width=\"24px\">\n",
              "    <path d=\"M7,19H8.4L18.45,9,17,7.55,7,17.6ZM5,21V16.75L18.45,3.32a2,2,0,0,1,2.83,0l1.4,1.43a1.91,1.91,0,0,1,.58,1.4,1.91,1.91,0,0,1-.58,1.4L9.25,21ZM18.45,9,17,7.55Zm-12,3A5.31,5.31,0,0,0,4.9,8.1,5.31,5.31,0,0,0,1,6.5,5.31,5.31,0,0,0,4.9,4.9,5.31,5.31,0,0,0,6.5,1,5.31,5.31,0,0,0,8.1,4.9,5.31,5.31,0,0,0,12,6.5,5.46,5.46,0,0,0,6.5,12Z\"/>\n",
              "  </svg>\n",
              "    </button>\n",
              "    <script>\n",
              "      (() => {\n",
              "      const buttonEl =\n",
              "        document.querySelector('#id_43153c13-bb8c-4521-9640-05d09ac92278 button.colab-df-generate');\n",
              "      buttonEl.style.display =\n",
              "        google.colab.kernel.accessAllowed ? 'block' : 'none';\n",
              "\n",
              "      buttonEl.onclick = () => {\n",
              "        google.colab.notebook.generateWithVariable('salary_data_outliers');\n",
              "      }\n",
              "      })();\n",
              "    </script>\n",
              "  </div>\n",
              "\n",
              "    </div>\n",
              "  </div>\n"
            ],
            "application/vnd.google.colaboratory.intrinsic+json": {
              "type": "dataframe",
              "variable_name": "salary_data_outliers",
              "summary": "{\n  \"name\": \"salary_data_outliers\",\n  \"rows\": 0,\n  \"fields\": [\n    {\n      \"column\": \"A\\u00f1osExperiencia\",\n      \"properties\": {\n        \"dtype\": \"number\",\n        \"std\": null,\n        \"min\": null,\n        \"max\": null,\n        \"num_unique_values\": 0,\n        \"samples\": [],\n        \"semantic_type\": \"\",\n        \"description\": \"\"\n      }\n    },\n    {\n      \"column\": \"Salario\",\n      \"properties\": {\n        \"dtype\": \"number\",\n        \"std\": null,\n        \"min\": null,\n        \"max\": null,\n        \"num_unique_values\": 0,\n        \"samples\": [],\n        \"semantic_type\": \"\",\n        \"description\": \"\"\n      }\n    }\n  ]\n}"
            }
          },
          "metadata": {},
          "execution_count": 12
        }
      ]
    },
    {
      "cell_type": "markdown",
      "source": [
        "* Podemos ver que no existen *outliers* en nuestros datos, para ninguna de las columnas.\n",
        "* Si fuera el caso de que efectivamente existieran *outliers*, entonces al dataframe que vamos a utilizar para entrenar nuestro modelo le deberíamos de quitar los *outliers* definidos anteriormente de la siguiente manera:"
      ],
      "metadata": {
        "id": "DTad9FnGPrlq"
      }
    },
    {
      "cell_type": "code",
      "source": [
        "df = df[~((df < (Q1 - 1.5 * IQR)) |\\\n",
        "                            (df > (Q3 + 1.5 * IQR))).any(axis = 1)]\n",
        "\n",
        "df.shape"
      ],
      "metadata": {
        "colab": {
          "base_uri": "https://localhost:8080/"
        },
        "id": "nVJHZRZUPGAB",
        "outputId": "20c1310d-0eb9-4c54-8076-a2c4e2867d47"
      },
      "execution_count": null,
      "outputs": [
        {
          "output_type": "execute_result",
          "data": {
            "text/plain": [
              "(30, 2)"
            ]
          },
          "metadata": {},
          "execution_count": 13
        }
      ]
    },
    {
      "cell_type": "markdown",
      "source": [
        "* Vemos que permanecemos con los 35 registros, ya que no hay *outliers* que eliminar."
      ],
      "metadata": {
        "id": "0bNmSZjdPx_6"
      }
    },
    {
      "cell_type": "markdown",
      "source": [
        "## Regresión Lineal"
      ],
      "metadata": {
        "id": "iq3ptnpoP8ti"
      }
    },
    {
      "cell_type": "markdown",
      "source": [
        "### Relación entre variables"
      ],
      "metadata": {
        "id": "7BVWulclP_jy"
      }
    },
    {
      "cell_type": "markdown",
      "source": [
        "Antes de realizar el modelo de regresión lineal, veamos la relación entre las variables *'AñosExperiencia'* y *'Salario'*"
      ],
      "metadata": {
        "id": "xiuN9DamQCti"
      }
    },
    {
      "cell_type": "code",
      "source": [
        "plt.figure(figsize = (12, 8))\n",
        "\n",
        "sns.scatterplot(x = 'AñosExperiencia', y = 'Salario',\n",
        "                s = 400, color = 'green',\n",
        "                data = df)\n",
        "\n",
        "plt.xlabel('Años De Experiencia')\n",
        "plt.ylabel('Salario')\n",
        "plt.title('Relación entre Años de Experiencia y Salario')"
      ],
      "metadata": {
        "colab": {
          "base_uri": "https://localhost:8080/",
          "height": 736
        },
        "id": "Qo3hGMm6Puzq",
        "outputId": "eac19b9a-bf9c-4398-cd60-4d3405beeeed"
      },
      "execution_count": null,
      "outputs": [
        {
          "output_type": "execute_result",
          "data": {
            "text/plain": [
              "Text(0.5, 1.0, 'Relación entre Años de Experiencia y Salario')"
            ]
          },
          "metadata": {},
          "execution_count": 14
        },
        {
          "output_type": "display_data",
          "data": {
            "text/plain": [
              "<Figure size 1200x800 with 1 Axes>"
            ],
            "image/png": "[encoded data removed]"
          },
          "metadata": {}
        }
      ]
    },
    {
      "cell_type": "markdown",
      "source": [
        "* Entre más años de experiencia tenga un individuo más alto sera su salario.  "
      ],
      "metadata": {
        "id": "FUlpYS6DQtnD"
      }
    },
    {
      "cell_type": "markdown",
      "source": [
        "### Datasets de entrenamiento y de pruebas"
      ],
      "metadata": {
        "id": "xjBo_S1XQxeb"
      }
    },
    {
      "cell_type": "markdown",
      "source": [
        "* Utilizamos la función *train_test_split* para configurar la partición de datos que vamos a realizar\n",
        "* Con el parámetro *random_state = 42*, estamos indicando a sklearn que barajee los datos asi evitamos que las particiones sigan algún tipo de patron.\n",
        "* Con el parámetro *test_size = 0.3*, Estamos indicando a sklearn que utilice el 30% de nuestros datos para pruebas (para evaluar nuestro modelo).\n",
        "    * 70% de los datos serán utilizados para entrenar nuestro modelo\n",
        "    * 30% de los datos serán utilizados para probar nuestro modelo"
      ],
      "metadata": {
        "id": "1e7XD0tURo6D"
      }
    },
    {
      "cell_type": "code",
      "source": [
        "# Dataset con las variables predictoras\n",
        "X = df['AñosExperiencia']\n",
        "\n",
        "# Dataset con la variable target\n",
        "y = df['Salario']\n",
        "\n",
        "# Dividimos nuestro dataset en datos de entrenamiento y datos de prueba\n",
        "X_train, X_test, y_train, y_test = train_test_split(X, y, test_size = 0.3, random_state = 42)"
      ],
      "metadata": {
        "id": "wvWklsMCRspT"
      },
      "execution_count": null,
      "outputs": []
    },
    {
      "cell_type": "markdown",
      "source": [
        "Vemos el número de registros de variables predictoras para los datasets de entrenamiento y de pruebas:"
      ],
      "metadata": {
        "id": "qVhS0yHqVQ0d"
      }
    },
    {
      "cell_type": "code",
      "source": [
        "X_train.shape, X_test.shape"
      ],
      "metadata": {
        "colab": {
          "base_uri": "https://localhost:8080/"
        },
        "id": "M11i4EfkQLBy",
        "outputId": "28990317-b71d-41bd-c679-a350f02071ac"
      },
      "execution_count": null,
      "outputs": [
        {
          "output_type": "execute_result",
          "data": {
            "text/plain": [
              "((21,), (9,))"
            ]
          },
          "metadata": {},
          "execution_count": 16
        }
      ]
    },
    {
      "cell_type": "markdown",
      "source": [
        "Vemos el número de registros de la variable target para los datasets de entrenamiento y de pruebas:"
      ],
      "metadata": {
        "id": "UAqpQxu3ViAm"
      }
    },
    {
      "cell_type": "code",
      "source": [
        "y_train.shape, y_test.shape"
      ],
      "metadata": {
        "colab": {
          "base_uri": "https://localhost:8080/"
        },
        "id": "AhD1_Di_Va5V",
        "outputId": "ecc42b88-aa25-4a6d-ca91-2cb12b966163"
      },
      "execution_count": null,
      "outputs": [
        {
          "output_type": "execute_result",
          "data": {
            "text/plain": [
              "((21,), (9,))"
            ]
          },
          "metadata": {},
          "execution_count": 17
        }
      ]
    },
    {
      "cell_type": "markdown",
      "source": [
        "### Modelo de Regresión Lineal"
      ],
      "metadata": {
        "id": "U1djbaL2Vntt"
      }
    },
    {
      "cell_type": "markdown",
      "source": [
        "* Vamos a utilizar el modelo de regresión lineal en *scikit-learn*, para entrenar nuestro modelo de regresión lineal simple.\n",
        "* El modelo de *scikit-learn* espera como entrada que los datos de entrenamiento estén en un array multidimensional, por lo tanto, en nuestro caso\n",
        "  necesitamos hacer un *reshape* (remodelar) a nuestros datos.  \n",
        "    * Para nuestro modelo lineal simple necesitamos un arreglo de n filas (24 filas en nuestro caso) y 1 columna"
      ],
      "metadata": {
        "id": "0RZ-CmUlVpxd"
      }
    },
    {
      "cell_type": "markdown",
      "source": [
        "#### Reshape de los datos"
      ],
      "metadata": {
        "id": "4S5XvFyVV072"
      }
    },
    {
      "cell_type": "code",
      "source": [
        "# Convertimos los datos de entrenamiento a un array de numpy\n",
        "# y luego remodelamos los datos de entrenamiento para asegurarnos que sea un arreglo multidimensional que conste de n filas y 1 columna\n",
        "\n",
        "# Los datos de entrada de la variable predictora para el entrenamiento\n",
        "X_train = X_train.to_numpy()\n",
        "X_train = X_train.reshape((-1, 1))\n",
        "\n",
        "# Los datos de entrada de la variable target para el entrenamiento\n",
        "y_train = y_train.to_numpy()\n",
        "y_train = y_train.reshape((-1, 1))\n",
        "\n",
        "X_train.shape, y_train.shape"
      ],
      "metadata": {
        "colab": {
          "base_uri": "https://localhost:8080/"
        },
        "id": "Ix1kMl-mVlCd",
        "outputId": "113a4ebe-8bdc-4bab-b8bb-3ddcafbe4c7a"
      },
      "execution_count": null,
      "outputs": [
        {
          "output_type": "execute_result",
          "data": {
            "text/plain": [
              "((21, 1), (21, 1))"
            ]
          },
          "metadata": {},
          "execution_count": 18
        }
      ]
    },
    {
      "cell_type": "markdown",
      "source": [
        "* De la misma manera procedemos con los datos de pruebas para pasarlos a un arreglo de dos dimensiones de n filas (9 filas en nuestro caso) y 1 columna"
      ],
      "metadata": {
        "id": "XZBXqKS3c376"
      }
    },
    {
      "cell_type": "code",
      "source": [
        "# Convertimos los datos para pruebas a un array de numpy\n",
        "# y luego remodelamos los datos para pruebas y asegurarnos que sea un arreglo multidimensional que conste de n filas y 1 columna\n",
        "\n",
        "# Los datos de entrada de la variable predictora para las pruebas\n",
        "X_test = X_test.to_numpy()\n",
        "X_test = X_test.reshape((-1, 1))\n",
        "\n",
        "# Los datos de entrada de la variable target para las pruebas\n",
        "y_test = y_test.to_numpy()\n",
        "y_test = y_test.reshape((-1, 1))\n",
        "\n",
        "X_test.shape, y_test.shape"
      ],
      "metadata": {
        "colab": {
          "base_uri": "https://localhost:8080/"
        },
        "id": "LpBv5ojzV2Qd",
        "outputId": "b5e45115-7abb-43a4-eb11-58ae97acd394"
      },
      "execution_count": null,
      "outputs": [
        {
          "output_type": "execute_result",
          "data": {
            "text/plain": [
              "((9, 1), (9, 1))"
            ]
          },
          "metadata": {},
          "execution_count": 19
        }
      ]
    },
    {
      "cell_type": "markdown",
      "source": [
        "#### Entrando el modelo"
      ],
      "metadata": {
        "id": "gC0kZf8VarPM"
      }
    },
    {
      "cell_type": "markdown",
      "source": [
        "Con los datos de entrenamiento, creamos el modelo de regresión y lo entrenamos:"
      ],
      "metadata": {
        "id": "t8LP1vBcat8j"
      }
    },
    {
      "cell_type": "code",
      "source": [
        "# Instanciamos un modelo de regresión lineal de scikit-learn\n",
        "lr = LinearRegression()\n",
        "\n",
        "# Entrenamos (ajustamos) nuestro modelo de regresión lineal con los datos de entrenamiento\n",
        "linear_reg_model = lr.fit(X_train, y_train)"
      ],
      "metadata": {
        "id": "38jVqYMHc0SJ"
      },
      "execution_count": null,
      "outputs": []
    },
    {
      "cell_type": "markdown",
      "source": [
        "Vemos los *Coeficientes* e *Interceptos* obtenidos después del entrenamiento del modelo:\n",
        "\n",
        "Nota: estos coeficientes e interceptos son los mismos que podemos obtener utilizando el método *statsmodels*\n"
      ],
      "metadata": {
        "id": "9z4KfsM-axwU"
      }
    },
    {
      "cell_type": "code",
      "source": [
        "# Coeficientes del modelo de regresión lineal\n",
        "linear_reg_model.coef_"
      ],
      "metadata": {
        "colab": {
          "base_uri": "https://localhost:8080/"
        },
        "id": "YOAvN_dQav0K",
        "outputId": "caf964d5-887e-42f9-9b10-8d3d0aaae180"
      },
      "execution_count": null,
      "outputs": [
        {
          "output_type": "execute_result",
          "data": {
            "text/plain": [
              "array([[9339.08172382]])"
            ]
          },
          "metadata": {},
          "execution_count": 21
        }
      ]
    },
    {
      "cell_type": "markdown",
      "source": [
        "* Tenemos solamente un coeficiente y corresponde al predictor *AñosExperiencia*.\n",
        "* El hecho de que este coeficiente sea positivo indica que existe una correlación positiva entre los años de experiencia (*AñosExperiencia*) y el salario (*Salario*)\n",
        "    * Entre más alto sea el número de años de experiencia (*AñosExperiencia*) más alto será el salario (*Salario*)\n",
        "* Este coeficiente nos indica la taza de cambio entre el salario y los años de experiencia.\n",
        "    * Por cada unidad aumentada o disminuida en la variable predictora, nos indica el aumento o disminución correspondiente en el target\n",
        "    * En nuestro caso, por cada año mas de experiencia, el salario aumenta aprox. $9,339"
      ],
      "metadata": {
        "id": "8AqNilQAa2jD"
      }
    },
    {
      "cell_type": "code",
      "source": [
        "# Interceptos del modelo de regresión lineal\n",
        "linear_reg_model.intercept_"
      ],
      "metadata": {
        "colab": {
          "base_uri": "https://localhost:8080/"
        },
        "id": "6RU56K7KazX6",
        "outputId": "4612d60f-c7c3-4b4e-9f60-0319c0da8166"
      },
      "execution_count": null,
      "outputs": [
        {
          "output_type": "execute_result",
          "data": {
            "text/plain": [
              "array([24985.53016251])"
            ]
          },
          "metadata": {},
          "execution_count": 22
        }
      ]
    },
    {
      "cell_type": "markdown",
      "source": [
        "* Tenemos el intercepto y nos indica el valor del salario (target *Salario*) cuando se tiene 0 años de experiencia (predictor *AñosExperiencia*=0)\n",
        "* Vemos que el intercepto también es un valor positivo."
      ],
      "metadata": {
        "id": "h9GBnKIQbcxk"
      }
    },
    {
      "cell_type": "markdown",
      "source": [
        "#### Probando y Evaluando el modelo"
      ],
      "metadata": {
        "id": "YkMZF4kPbrNb"
      }
    },
    {
      "cell_type": "markdown",
      "source": [
        "Ahora con nuestro modelo ya ajustado, lo probamos haciendo predicciones sobre nuestros datos de prueba:"
      ],
      "metadata": {
        "id": "-ZPzE6ECbtb1"
      }
    },
    {
      "cell_type": "code",
      "source": [
        "# Realizamos predicciones con nuestro modelo de regresión utilizando los datos de prueba\n",
        "y_pred = linear_reg_model.predict(X_test)\n",
        "\n",
        "# Mostramos las primeras cinco estimaciones obtenidas\n",
        "y_pred[:5]"
      ],
      "metadata": {
        "colab": {
          "base_uri": "https://localhost:8080/"
        },
        "id": "G967xFgRbKWi",
        "outputId": "368326b7-2938-4329-e198-877fa0a59c51"
      },
      "execution_count": null,
      "outputs": [
        {
          "output_type": "execute_result",
          "data": {
            "text/plain": [
              "array([[115574.62288352],\n",
              "       [ 71680.93878159],\n",
              "       [102499.90847018],\n",
              "       [ 75416.57147111],\n",
              "       [ 55804.4998511 ]])"
            ]
          },
          "metadata": {},
          "execution_count": 23
        }
      ]
    },
    {
      "cell_type": "markdown",
      "source": [
        "Evaluamos el puntaje (*score*) de nuestro modelo sobre los datos de entrenamiento:"
      ],
      "metadata": {
        "id": "Rj2TIDSLdKQ8"
      }
    },
    {
      "cell_type": "code",
      "source": [
        "print('Puntaje del modelo de regresión sobre los datos de entrenamiento: ', linear_reg_model.score(X_train, y_train))"
      ],
      "metadata": {
        "colab": {
          "base_uri": "https://localhost:8080/"
        },
        "id": "nCrRWtSGcSny",
        "outputId": "67530de0-322e-478a-92cc-a3b8a3e3227e"
      },
      "execution_count": null,
      "outputs": [
        {
          "output_type": "stream",
          "name": "stdout",
          "text": [
            "Puntaje del modelo de regresión sobre los datos de entrenamiento:  0.9574526669392872\n"
          ]
        }
      ]
    },
    {
      "cell_type": "markdown",
      "source": [
        "* Vemos un puntaje alto cerca del 95%.   \n",
        "    * Es decir, nuestro modelo explica cerca del 95% de la varianza en nuestros datos.\n",
        "* El puntaje es el valor de la *métrica R-Cuadrado* (*R-Square*) de nuestro modelo de regresión lineal sobre los datos de entrenamiento"
      ],
      "metadata": {
        "id": "ADeQEXLPdlk1"
      }
    },
    {
      "cell_type": "code",
      "source": [
        "print('Puntaje del modelo de regresión sobre los datos de pruebas: ', linear_reg_model.score(X_test, y_test))"
      ],
      "metadata": {
        "colab": {
          "base_uri": "https://localhost:8080/"
        },
        "id": "0ZC13MmKdL3b",
        "outputId": "2a3873b8-cdb3-4d4d-f51b-c3b84bee95b5"
      },
      "execution_count": null,
      "outputs": [
        {
          "output_type": "stream",
          "name": "stdout",
          "text": [
            "Puntaje del modelo de regresión sobre los datos de pruebas:  0.9414466227178215\n"
          ]
        }
      ]
    },
    {
      "cell_type": "markdown",
      "source": [
        "* Vemos un puntaje (R-Cuadrado) alto cerca del 94%.  Un poco más bajo que el que obtuvimos con los datos de entrenamiento, y esto es normal.\n",
        "* Este puntaje nos indica el desempeño de nuestro modelo sobre datos nuevos que nunca ha visto."
      ],
      "metadata": {
        "id": "WB9P6xdzd5Vl"
      }
    },
    {
      "cell_type": "markdown",
      "source": [
        "Ahora realizamos un gráfico del modelo de regresión lineal que fue ajustado/entrenado sobre los datos de entrenamiento:\n",
        "* Vamos a graficar un scatter plot de los puntos de datos de entrenamiento en color naranja\n",
        "* Y luego graficamos un linea ajustada (tambien sobre los datos de entrenamiento) que represente nuestro modelo de regresión lineal: Y = coef*X + intercept"
      ],
      "metadata": {
        "id": "0vwuepLxd8yt"
      }
    },
    {
      "cell_type": "code",
      "source": [
        "f, ax = plt.subplots(figsize = (12, 8))\n",
        "\n",
        "# graficamos los puntos de datos de entrenamiento en color naranja\n",
        "plt.plot(X_train, y_train, 'o', markersize = 20, color = 'orange')\n",
        "# graficamos una linea utilizando nuestro modelo de regresión lineal sobre los datos predictores de entrenamiento\n",
        "plt.plot(X_train , linear_reg_model.coef_ * X_train + linear_reg_model.intercept_)"
      ],
      "metadata": {
        "colab": {
          "base_uri": "https://localhost:8080/",
          "height": 693
        },
        "id": "u19Oamx3d3rj",
        "outputId": "8cf6f21b-00f5-4cc4-8846-792c3b8c642f"
      },
      "execution_count": null,
      "outputs": [
        {
          "output_type": "execute_result",
          "data": {
            "text/plain": [
              "[<matplotlib.lines.Line2D at 0x7be5724c5850>]"
            ]
          },
          "metadata": {},
          "execution_count": 26
        },
        {
          "output_type": "display_data",
          "data": {
            "text/plain": [
              "<Figure size 1200x800 with 1 Axes>"
            ],
            "image/png": "[encoded data removed]"
          },
          "metadata": {}
        }
      ]
    },
    {
      "cell_type": "markdown",
      "source": [
        "Podemos ver que la linea se ajusta bastante bien a los puntos."
      ],
      "metadata": {
        "id": "wV5YPxzweSf_"
      }
    },
    {
      "cell_type": "markdown",
      "source": [
        "Realizamos un gráfico del modelo de regresión lineal que fue ajustado/entrenado pero ahora sobre los datos de pruebas:"
      ],
      "metadata": {
        "id": "wkwJUKbUeUcm"
      }
    },
    {
      "cell_type": "code",
      "source": [
        "f, ax = plt.subplots(figsize = (12, 8))\n",
        "\n",
        "# graficamos los puntos de datos de pruebas en color verde\n",
        "plt.plot(X_test, y_test, 'o', markersize = 20, color = 'green')\n",
        "# graficamos una linea utilizando nuestro modelo de regresión lineal sobre los datos predictores de pruebas\n",
        "plt.plot(X_test , linear_reg_model.coef_ * X_test + linear_reg_model.intercept_)"
      ],
      "metadata": {
        "colab": {
          "base_uri": "https://localhost:8080/",
          "height": 693
        },
        "id": "PLBVCfKvd-rT",
        "outputId": "0845dbd3-7365-417c-ef93-4620c01d3261"
      },
      "execution_count": null,
      "outputs": [
        {
          "output_type": "execute_result",
          "data": {
            "text/plain": [
              "[<matplotlib.lines.Line2D at 0x7be572306d90>]"
            ]
          },
          "metadata": {},
          "execution_count": 27
        },
        {
          "output_type": "display_data",
          "data": {
            "text/plain": [
              "<Figure size 1200x800 with 1 Axes>"
            ],
            "image/png": "[encoded data removed]"
          },
          "metadata": {}
        }
      ]
    },
    {
      "cell_type": "markdown",
      "source": [
        "Podemos ver que acá la linea tambien se ajusta muy bien a los datos."
      ],
      "metadata": {
        "id": "IU0TmIxCens-"
      }
    },
    {
      "cell_type": "code",
      "source": [],
      "metadata": {
        "id": "kS0DYIf2eWz0"
      },
      "execution_count": null,
      "outputs": []
    }
  ]
}